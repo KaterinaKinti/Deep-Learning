{
  "cells": [
    {
      "cell_type": "markdown",
      "metadata": {
        "id": "view-in-github",
        "colab_type": "text"
      },
      "source": [
        "<a href=\"https://colab.research.google.com/github/KaterinaKinti/Deep-Learning/blob/main/TimeSeries_Adaboost_Xgboost_Stacking.ipynb\" target=\"_parent\"><img src=\"https://colab.research.google.com/assets/colab-badge.svg\" alt=\"Open In Colab\"/></a>"
      ]
    },
    {
      "cell_type": "markdown",
      "source": [
        "ADABoost"
      ],
      "metadata": {
        "id": "P6aGXI16BUdY"
      },
      "id": "P6aGXI16BUdY"
    },
    {
      "cell_type": "code",
      "source": [
        "tscv = TimeSeriesSplit(n_splits=5)\n",
        "\n",
        "scaler = RobustScaler()\n",
        "\n",
        "#undersampler =RandomUnderSampler(sampling_strategy=0.5)#,'majority'\n",
        "oversampler = SMOTE(sampling_strategy='minority') #, adasyn,sampling_strategy=0.1\n",
        "\n",
        "AB = AdaBoostClassifier(n_estimators=50, learning_rate=1)"
      ],
      "metadata": {
        "id": "dWWEWY4rBTPT"
      },
      "id": "dWWEWY4rBTPT",
      "execution_count": null,
      "outputs": []
    },
    {
      "cell_type": "code",
      "source": [
        "# Same ratio of minority/majority in each fold\n",
        "cv = RepeatedStratifiedKFold(n_splits=5, n_repeats=3, random_state=42)\n",
        "\n",
        "\n",
        "for train_index, test_index in cv.split(X, y):\n",
        "    # Split the data into training and test sets\n",
        "    X_train, X_test = X[train_index], X[test_index]\n",
        "    y_train, y_test = y[train_index], y[test_index]\n",
        "\n",
        "\n",
        "    #scaler = RobustScaler()\n",
        "    X_train_scaled = scaler.fit_transform(X_train)\n",
        "    X_test_scaled = scaler.transform(X_test)\n",
        "\n",
        "    # Oversample the majority class\n",
        "    X_train_resampled, y_train_resampled = oversampler.fit_resample(X_train_scaled, y_train)\n",
        "\n",
        "    # Undersample the minority class\n",
        "    #X_train_resampled, y_train_resampled = undersampler.fit_resample(X_train_resampled, y_train_resampled)\n",
        "\n",
        "    #X_train_resampled, y_train_resampled = SMOTETomek(tomek=TomekLinks(sampling_strategy='majority'))\n",
        "    #X_train_resampled, y_train_resampled = SMOTEENN(enn=EditedNearestNeighbours(sampling_strategy='majority'))\n",
        "\n",
        "\n",
        "    AB.fit(X_train_resampled, y_train_resampled)\n",
        "    y_pred = model.predict(X_test_scaled)\n",
        "\n",
        "\n",
        "    print(classification_report(y_test, y_pred))"
      ],
      "metadata": {
        "id": "GBHzxNeoB0kk"
      },
      "id": "GBHzxNeoB0kk",
      "execution_count": null,
      "outputs": []
    },
    {
      "cell_type": "code",
      "source": [
        "score = {}"
      ],
      "metadata": {
        "id": "6jZtFHzBB0l6"
      },
      "id": "6jZtFHzBB0l6",
      "execution_count": null,
      "outputs": []
    },
    {
      "cell_type": "code",
      "source": [
        "# Fit the model and make predictions\n",
        "AB.fit(X_train_resampled, y_train_resampled)\n",
        "y_pred = model.predict(X_test_scaled)\n",
        "y_train_prob = model.predict_proba(X_train_resampled)[:, 1]\n",
        "y_test_prob = model.predict_proba(X_test_scaled)[:, 1]\n",
        "y_train_pred = model.predict(X_train_resampled)\n"
      ],
      "metadata": {
        "id": "fZvvtcr_B0oX"
      },
      "id": "fZvvtcr_B0oX",
      "execution_count": null,
      "outputs": []
    },
    {
      "cell_type": "code",
      "source": [
        "# Calculate AUC score for both training and test data\n",
        "train_auc = roc_auc_score(y_train_resampled, y_train_prob)\n",
        "test_auc = roc_auc_score(y_test, y_test_prob)\n",
        "\n",
        "# Print the AUC scores\n",
        "print('Training AUC score: ', train_auc)\n",
        "print('Test AUC score: ', test_auc)\n",
        "\n",
        "score['AdaBoost'] = [test_auc]"
      ],
      "metadata": {
        "id": "j7S6l50RB0ro"
      },
      "id": "j7S6l50RB0ro",
      "execution_count": null,
      "outputs": []
    },
    {
      "cell_type": "code",
      "source": [
        "# calculate ROC curve\n",
        "train_fpr, train_tpr, train_thresholds = roc_curve(y_train_resampled, y_train_prob)\n",
        "test_fpr, test_tpr, test_thresholds = roc_curve(y_test, y_test_prob)\n",
        "plt.plot([0, 1], [0, 1], linestyle='--')\n",
        "plt.plot(train_fpr, train_tpr, marker='.', label='Train AUC')\n",
        "plt.plot(test_fpr, test_tpr, marker='.', label='Test AUC')\n",
        "plt.legend()\n",
        "plt.xlabel(\"False Positive Rate\")\n",
        "plt.ylabel(\"True Positive Rate\")\n",
        "plt.title(\"ROC Curve\")\n",
        "plt.show()"
      ],
      "metadata": {
        "id": "RnM3UgxIB0vE"
      },
      "id": "RnM3UgxIB0vE",
      "execution_count": null,
      "outputs": []
    },
    {
      "cell_type": "code",
      "source": [
        "# Train Confusion Matrix\n",
        "cma = confusion_matrix(y_train_resampled, y_train_pred)\n",
        "print('Confusion matrix for Train data:\\n', cma)\n",
        "df_cm = pd.DataFrame(cma, range(2), columns=range(2))\n",
        "plt.figure(figsize=(10, 7))\n",
        "sns.heatmap(df_cm, annot=True, annot_kws={\"size\": 16}, fmt='g')"
      ],
      "metadata": {
        "id": "57IlDCF1CK84"
      },
      "id": "57IlDCF1CK84",
      "execution_count": null,
      "outputs": []
    },
    {
      "cell_type": "code",
      "source": [
        "#Precision-Recall AUC\n",
        "precision, recall, thresholds = precision_recall_curve(y_test, y_test_prob)\n",
        "\n",
        "fig = px.area(\n",
        "    x=recall, y=precision,\n",
        "    title=f'Precision-Recall Curve AdaBoost (AUC={auc(recall, precision):.4f})',\n",
        "    labels=dict(x='Recall', y='Precision'),\n",
        "    width=700, height=500\n",
        ")\n",
        "fig.add_shape(\n",
        "    type='line', line=dict(dash='dash'),\n",
        "    x0=0, x1=1, y0=1, y1=0\n",
        ")\n",
        "fig.update_yaxes(scaleanchor=\"x\", scaleratio=1)\n",
        "fig.update_xaxes(constrain='domain')\n",
        "\n",
        "fig.show()"
      ],
      "metadata": {
        "id": "tBjHrmrwCPt9"
      },
      "id": "tBjHrmrwCPt9",
      "execution_count": null,
      "outputs": []
    },
    {
      "cell_type": "code",
      "source": [],
      "metadata": {
        "id": "AoJTXZb_CPxa"
      },
      "id": "AoJTXZb_CPxa",
      "execution_count": null,
      "outputs": []
    },
    {
      "cell_type": "markdown",
      "source": [
        "XGBoost"
      ],
      "metadata": {
        "id": "Gc7aFxCBBuY2"
      },
      "id": "Gc7aFxCBBuY2"
    },
    {
      "cell_type": "code",
      "source": [
        "tscv = TimeSeriesSplit(n_splits=5)\n",
        "\n",
        "scaler = RobustScaler()\n",
        "\n",
        "oversampler = SMOTE(sampling_strategy='minority')\n",
        "\n",
        "XGB = XGBClassifier(class_weight='balanced', n_jobs=-1)"
      ],
      "metadata": {
        "id": "-uiUr37985nC"
      },
      "id": "-uiUr37985nC",
      "execution_count": null,
      "outputs": []
    },
    {
      "cell_type": "code",
      "source": [
        "# Same ratio of minority/majority in each fold\n",
        "cv = RepeatedStratifiedKFold(n_splits=5, n_repeats=3, random_state=42)\n",
        "\n",
        "\n",
        "for train_index, test_index in cv.split(X, y):\n",
        "    # Split the data into training and test sets\n",
        "    X_train, X_test = X[train_index], X[test_index]\n",
        "    y_train, y_test = y[train_index], y[test_index]\n",
        "\n",
        "\n",
        "    #Scaling\n",
        "    X_train_scaled = scaler.fit_transform(X_train)\n",
        "    X_test_scaled = scaler.transform(X_test)\n",
        "\n",
        "    # Oversampling\n",
        "    X_train_resampled, y_train_resampled = oversampler.fit_resample(X_train_scaled, y_train)\n",
        "\n",
        "\n",
        "    XGB.fit(X_train_resampled, y_train_resampled)\n",
        "    y_pred = model.predict(X_test_scaled)\n",
        "\n",
        "\n",
        "    print(classification_report(y_test, y_pred))"
      ],
      "metadata": {
        "id": "5gATuE0085p6"
      },
      "id": "5gATuE0085p6",
      "execution_count": null,
      "outputs": []
    },
    {
      "cell_type": "code",
      "source": [
        "score = {}"
      ],
      "metadata": {
        "id": "st4gou3q85s4"
      },
      "id": "st4gou3q85s4",
      "execution_count": null,
      "outputs": []
    },
    {
      "cell_type": "code",
      "source": [
        "# Fit the model and make predictions\n",
        "XGB.fit(X_train_resampled, y_train_resampled)\n",
        "y_pred = XGB.predict(X_test_scaled)\n",
        "y_train_prob = XGB.predict_proba(X_train_resampled)[:, 1]\n",
        "y_test_prob = XGB.predict_proba(X_test_scaled)[:, 1]\n",
        "y_train_pred = XGB.predict(X_train_resampled)\n"
      ],
      "metadata": {
        "id": "qvVE39AV85v5"
      },
      "id": "qvVE39AV85v5",
      "execution_count": null,
      "outputs": []
    },
    {
      "cell_type": "code",
      "source": [
        "# Calculate AUC score for both training and test data\n",
        "train_auc = roc_auc_score(y_train_resampled, y_train_prob)\n",
        "test_auc = roc_auc_score(y_test, y_test_prob)\n",
        "\n",
        "# Print the AUC scores\n",
        "print('Training AUC score: ', train_auc)\n",
        "print('Test AUC score: ', test_auc)\n",
        "\n",
        "score['XGBoost'] = [test_auc]"
      ],
      "metadata": {
        "id": "q10TfImV85yx"
      },
      "id": "q10TfImV85yx",
      "execution_count": null,
      "outputs": []
    },
    {
      "cell_type": "code",
      "source": [
        "# calculate ROC curve\n",
        "train_fpr, train_tpr, train_thresholds = roc_curve(y_train_resampled, y_train_prob)\n",
        "test_fpr, test_tpr, test_thresholds = roc_curve(y_test, y_test_prob)\n",
        "plt.plot([0, 1], [0, 1], linestyle='--')\n",
        "plt.plot(train_fpr, train_tpr, marker='.', label='Train AUC')\n",
        "plt.plot(test_fpr, test_tpr, marker='.', label='Test AUC')\n",
        "plt.legend()\n",
        "plt.xlabel(\"False Positive Rate\")\n",
        "plt.ylabel(\"True Positive Rate\")\n",
        "plt.title(\"ROC Curve\")\n",
        "plt.show()"
      ],
      "metadata": {
        "id": "CUW3lUCt851s"
      },
      "id": "CUW3lUCt851s",
      "execution_count": null,
      "outputs": []
    },
    {
      "cell_type": "code",
      "source": [
        "# Train Confusion Matrix\n",
        "cma = confusion_matrix(y_train_resampled, y_train_pred)\n",
        "print('Confusion matrix for Train data:\\n', cma)\n",
        "df_cm = pd.DataFrame(cma, range(2), columns=range(2))\n",
        "plt.figure(figsize=(10, 7))\n",
        "sns.heatmap(df_cm, annot=True, annot_kws={\"size\": 16}, fmt='g')"
      ],
      "metadata": {
        "id": "dVEbhgk1854w"
      },
      "id": "dVEbhgk1854w",
      "execution_count": null,
      "outputs": []
    },
    {
      "cell_type": "code",
      "source": [
        "#Precision-Recall AUC\n",
        "precision, recall, thresholds = precision_recall_curve(y_test, y_test_prob)\n",
        "\n",
        "fig = px.area(\n",
        "    x=recall, y=precision,\n",
        "    title=f'Precision-Recall Curve XGBoost (AUC={auc(recall, precision):.4f})',\n",
        "    labels=dict(x='Recall', y='Precision'),\n",
        "    width=700, height=500\n",
        ")\n",
        "fig.add_shape(\n",
        "    type='line', line=dict(dash='dash'),\n",
        "    x0=0, x1=1, y0=1, y1=0\n",
        ")\n",
        "fig.update_yaxes(scaleanchor=\"x\", scaleratio=1)\n",
        "fig.update_xaxes(constrain='domain')\n",
        "\n",
        "fig.show()"
      ],
      "metadata": {
        "id": "6Dz27Aos858G"
      },
      "id": "6Dz27Aos858G",
      "execution_count": null,
      "outputs": []
    },
    {
      "cell_type": "code",
      "source": [
        "Stacking"
      ],
      "metadata": {
        "id": "B8wc14YE86DM"
      },
      "id": "B8wc14YE86DM",
      "execution_count": null,
      "outputs": []
    },
    {
      "cell_type": "code",
      "source": [
        "#Stacking Classifier base:LR,RF,XGB  meta-learner: logistic regression\n",
        "model_1 = LogisticRegression(C=3, class_weight='balanced', n_jobs=-1)\n",
        "model_1.fit(train, y_train)\n",
        "clf_1 = CalibratedClassifierCV(model_1, method='sigmoid')\n",
        "\n",
        "model_2 = RandomForestClassifier(n_estimators=250, max_depth=25, class_weight='balanced', n_jobs=-1)\n",
        "model_2.fit(train, y_train)\n",
        "clf_2 = CalibratedClassifierCV(model_2, method='sigmoid')\n",
        "\n",
        "model_3 = XGBClassifier(max_depth=5, n_estimators=100, class_weight='balanced', n_jobs=-1)\n",
        "model_3.fit(train, y_train)\n",
        "clf_3 = CalibratedClassifierCV(model_3, method='sigmoid')\n",
        "\n",
        "stack_clf = StackingClassifier(classifiers=[clf_1, clf_2, clf_3], meta_classifier=LogisticRegression(), use_probas=True)\n",
        "stack_clf.fit(train, y_train)"
      ],
      "metadata": {
        "id": "WP9WNlmsHO8q"
      },
      "id": "WP9WNlmsHO8q",
      "execution_count": null,
      "outputs": []
    },
    {
      "cell_type": "code",
      "source": [
        "# predict probabilities\n",
        "y_probs_train = stack_clf.predict_proba(train)[:, 1]\n",
        "y_probs_test = stack_clf.predict_proba(test)[:, 1]\n",
        "y_predicted_train = stack_clf.predict(train)\n",
        "y_predicted_test = stack_clf.predict(test)\n",
        "train_auc = roc_auc_score(y_train, y_probs_train)\n",
        "test_auc = roc_auc_score(y_test, y_probs_test)\n",
        "train_acc = accuracy_score(y_train, y_predicted_train)\n",
        "test_acc = accuracy_score(y_test, y_predicted_test)"
      ],
      "metadata": {
        "id": "UeIqcHbBHPCF"
      },
      "id": "UeIqcHbBHPCF",
      "execution_count": null,
      "outputs": []
    },
    {
      "cell_type": "code",
      "source": [
        "#Accuracy and AUC\n",
        "print('*'*50)\n",
        "print('Train AUC: %.3f' % train_auc)\n",
        "print('Test AUC: %.3f' % test_auc)\n",
        "print('*'*50)\n",
        "print('Train Accuracy: %.3f' % train_acc)\n",
        "print('Test Accuracy: %.3f' % test_acc)\n",
        "\n",
        "# Plot ROC curve\n",
        "train_fpr, train_tpr, _ = roc_curve(y_train, y_probs_train)\n",
        "test_fpr, test_tpr, _ = roc_curve(y_test, y_probs_test)\n",
        "plt.plot([0, 1], [0, 1], linestyle='--')\n",
        "plt.plot(train_fpr, train_tpr, marker='.', label='Train AUC')\n",
        "plt.plot(test_fpr, test_tpr, marker='.', label='Test AUC')\n",
        "plt.legend()\n",
        "plt.xlabel(\"False Positive Rate\")\n",
        "plt.ylabel(\"True Positive Rate\")\n",
        "plt.title(\"ROC Curve\")\n",
        "plt.show()"
      ],
      "metadata": {
        "id": "TpP-tsrom7Og"
      },
      "id": "TpP-tsrom7Og",
      "execution_count": null,
      "outputs": []
    },
    {
      "cell_type": "code",
      "source": [
        "#Train Confusion Matrix\n",
        "from sklearn.metrics import confusion_matrix\n",
        "\n",
        "cma = confusion_matrix(y_train, y_predicted_train)\n",
        "print('Confusion matrix:\\n', cma)\n",
        "df_cm = pd.DataFrame(cma, range(2), columns=range(2))\n",
        "plt.figure(figsize = (10,7))\n",
        "sns.heatmap(df_cm, annot=True,annot_kws={\"size\": 16}, fmt='g')"
      ],
      "metadata": {
        "id": "rJOk4RmdHPE8"
      },
      "id": "rJOk4RmdHPE8",
      "execution_count": null,
      "outputs": []
    },
    {
      "cell_type": "code",
      "source": [
        "#Precision-Recall AUC\n",
        "precision, recall, thresholds = precision_recall_curve(y_test, y_test_prob)\n",
        "\n",
        "fig = px.area(\n",
        "    x=recall, y=precision,\n",
        "    title=f'Precision-Recall Curve Stacking (AUC={auc(recall, precision):.4f})',\n",
        "    labels=dict(x='Recall', y='Precision'),\n",
        "    width=700, height=500\n",
        ")\n",
        "fig.add_shape(\n",
        "    type='line', line=dict(dash='dash'),\n",
        "    x0=0, x1=1, y0=1, y1=0\n",
        ")\n",
        "fig.update_yaxes(scaleanchor=\"x\", scaleratio=1)\n",
        "fig.update_xaxes(constrain='domain')\n",
        "\n",
        "fig.show()"
      ],
      "metadata": {
        "id": "_RSq0mc-HPHs"
      },
      "id": "_RSq0mc-HPHs",
      "execution_count": null,
      "outputs": []
    },
    {
      "cell_type": "code",
      "source": [
        "from sklearn.metrics import precision_recall_curve, auc\n",
        "\n",
        "# calculate precision-recall AUC scores for each model\n",
        "pr_auc_scores = {}\n",
        "for model_name, (y_pred_train, y_prob_train, y_pred_test, y_prob_test) in predictions.items():\n",
        "    precision, recall, _ = precision_recall_curve(y_test, y_prob_test)\n",
        "    pr_auc_scores[model_name] = auc(recall, precision)\n",
        "\n",
        "# create pretty table for comparison of precision-recall AUC scores\n",
        "pr_auc_table = PrettyTable(['Model', 'Precision-Recall AUC'])\n",
        "for model_name, pr_auc_score in pr_auc_scores.items():\n",
        "    pr_auc_table.add_row([model_name, pr_auc_score])\n",
        "\n",
        "print('***************  Comparison of Precision-Recall AUC Scores  ****************')\n",
        "print(pr_auc_table)\n"
      ],
      "metadata": {
        "id": "R4sFWsJ4HPTl"
      },
      "id": "R4sFWsJ4HPTl",
      "execution_count": null,
      "outputs": []
    }
  ],
  "metadata": {
    "accelerator": "TPU",
    "colab": {
      "machine_shape": "hm",
      "provenance": [],
      "gpuType": "V100",
      "gpuClass": "premium",
      "include_colab_link": true
    },
    "gpuClass": "premium",
    "kernelspec": {
      "display_name": "Python 3 (ipykernel)",
      "language": "python",
      "name": "python3"
    },
    "language_info": {
      "codemirror_mode": {
        "name": "ipython",
        "version": 3
      },
      "file_extension": ".py",
      "mimetype": "text/x-python",
      "name": "python",
      "nbconvert_exporter": "python",
      "pygments_lexer": "ipython3",
      "version": "3.9.13"
    }
  },
  "nbformat": 4,
  "nbformat_minor": 5
}